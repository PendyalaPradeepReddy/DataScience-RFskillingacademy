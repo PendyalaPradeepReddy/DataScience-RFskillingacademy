{
  "nbformat": 4,
  "nbformat_minor": 0,
  "metadata": {
    "colab": {
      "provenance": []
    },
    "kernelspec": {
      "name": "python3",
      "display_name": "Python 3"
    },
    "language_info": {
      "name": "python"
    }
  },
  "cells": [
    {
      "cell_type": "code",
      "execution_count": 1,
      "metadata": {
        "colab": {
          "base_uri": "https://localhost:8080/"
        },
        "id": "zawPM6thX9FA",
        "outputId": "972b4538-8bda-454e-930e-e57fa9d97d5e"
      },
      "outputs": [
        {
          "output_type": "stream",
          "name": "stdout",
          "text": [
            "Data saved as openlibrary_books.csv\n"
          ]
        }
      ],
      "source": [
        "import requests\n",
        "import csv\n",
        "\n",
        "# Define the API endpoint for OpenLibrary\n",
        "url = \"https://openlibrary.org/subjects/science.json?limit=10\"\n",
        "\n",
        "# Send a request to fetch data\n",
        "response = requests.get(url)\n",
        "data = response.json()\n",
        "\n",
        "# Extract relevant book details\n",
        "books = data.get(\"works\", [])\n",
        "\n",
        "# Define the CSV file name\n",
        "csv_filename = \"openlibrary_books.csv\"\n",
        "\n",
        "# Write data to CSV\n",
        "with open(csv_filename, mode=\"w\", newline=\"\", encoding=\"utf-8\") as file:\n",
        "    writer = csv.writer(file)\n",
        "    writer.writerow([\"Title\", \"Author\", \"First Publish Year\", \"Edition Count\"])\n",
        "\n",
        "    for book in books:\n",
        "        title = book.get(\"title\", \"N/A\")\n",
        "        authors = \", \".join(author[\"name\"] for author in book.get(\"authors\", []))\n",
        "        first_publish_year = book.get(\"first_publish_year\", \"N/A\")\n",
        "        edition_count = book.get(\"edition_count\", \"N/A\")\n",
        "\n",
        "        writer.writerow([title, authors, first_publish_year, edition_count])\n",
        "\n",
        "print(f\"Data saved as {csv_filename}\")\n"
      ]
    },
    {
      "cell_type": "code",
      "source": [
        "from google.colab import files\n",
        "files.download(\"openlibrary_books.csv\")\n"
      ],
      "metadata": {
        "colab": {
          "base_uri": "https://localhost:8080/",
          "height": 17
        },
        "id": "WaG1CBafYFiK",
        "outputId": "bdcc15f6-4015-42ab-a46a-482c6e595415"
      },
      "execution_count": 2,
      "outputs": [
        {
          "output_type": "display_data",
          "data": {
            "text/plain": [
              "<IPython.core.display.Javascript object>"
            ],
            "application/javascript": [
              "\n",
              "    async function download(id, filename, size) {\n",
              "      if (!google.colab.kernel.accessAllowed) {\n",
              "        return;\n",
              "      }\n",
              "      const div = document.createElement('div');\n",
              "      const label = document.createElement('label');\n",
              "      label.textContent = `Downloading \"${filename}\": `;\n",
              "      div.appendChild(label);\n",
              "      const progress = document.createElement('progress');\n",
              "      progress.max = size;\n",
              "      div.appendChild(progress);\n",
              "      document.body.appendChild(div);\n",
              "\n",
              "      const buffers = [];\n",
              "      let downloaded = 0;\n",
              "\n",
              "      const channel = await google.colab.kernel.comms.open(id);\n",
              "      // Send a message to notify the kernel that we're ready.\n",
              "      channel.send({})\n",
              "\n",
              "      for await (const message of channel.messages) {\n",
              "        // Send a message to notify the kernel that we're ready.\n",
              "        channel.send({})\n",
              "        if (message.buffers) {\n",
              "          for (const buffer of message.buffers) {\n",
              "            buffers.push(buffer);\n",
              "            downloaded += buffer.byteLength;\n",
              "            progress.value = downloaded;\n",
              "          }\n",
              "        }\n",
              "      }\n",
              "      const blob = new Blob(buffers, {type: 'application/binary'});\n",
              "      const a = document.createElement('a');\n",
              "      a.href = window.URL.createObjectURL(blob);\n",
              "      a.download = filename;\n",
              "      div.appendChild(a);\n",
              "      a.click();\n",
              "      div.remove();\n",
              "    }\n",
              "  "
            ]
          },
          "metadata": {}
        },
        {
          "output_type": "display_data",
          "data": {
            "text/plain": [
              "<IPython.core.display.Javascript object>"
            ],
            "application/javascript": [
              "download(\"download_ae036d8b-89f4-4fc1-92b0-365f46a1bb28\", \"openlibrary_books.csv\", 659)"
            ]
          },
          "metadata": {}
        }
      ]
    }
  ]
}